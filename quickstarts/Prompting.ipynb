{
  "cells": [
    {
      "cell_type": "markdown",
      "metadata": {
        "id": "view-in-github",
        "colab_type": "text"
      },
      "source": [
        "<a href=\"https://colab.research.google.com/github/satishkhanna/Challenges_in_Machine_Learning_project/blob/master/quickstarts/Prompting.ipynb\" target=\"_parent\"><img src=\"https://colab.research.google.com/assets/colab-badge.svg\" alt=\"Open In Colab\"/></a>"
      ]
    },
    {
      "cell_type": "markdown",
      "metadata": {
        "id": "Tce3stUlHN0L"
      },
      "source": [
        "##### Copyright 2024 Google LLC."
      ]
    },
    {
      "cell_type": "code",
      "execution_count": null,
      "metadata": {
        "cellView": "form",
        "id": "tuOe1ymfHZPu"
      },
      "outputs": [],
      "source": [
        "# @title Licensed under the Apache License, Version 2.0 (the \"License\");\n",
        "# you may not use this file except in compliance with the License.\n",
        "# You may obtain a copy of the License at\n",
        "#\n",
        "# https://www.apache.org/licenses/LICENSE-2.0\n",
        "#\n",
        "# Unless required by applicable law or agreed to in writing, software\n",
        "# distributed under the License is distributed on an \"AS IS\" BASIS,\n",
        "# WITHOUT WARRANTIES OR CONDITIONS OF ANY KIND, either express or implied.\n",
        "# See the License for the specific language governing permissions and\n",
        "# limitations under the License."
      ]
    },
    {
      "cell_type": "markdown",
      "metadata": {
        "id": "yeadDkMiISin"
      },
      "source": [
        "# Gemini API: Prompting Quickstart\n",
        "\n",
        "<table align=\"left\">\n",
        "  <td>\n",
        "    <a target=\"_blank\" href=\"https://colab.research.google.com/github/google-gemini/cookbook/blob/main/quickstarts/Prompting.ipynb\"><img src=\"https://github.com/google-gemini/cookbook/blob/main/images/colab_logo_32px.png?raw=1\" />Run in Google Colab</a>\n",
        "  </td>\n",
        "</table>"
      ]
    },
    {
      "cell_type": "markdown",
      "metadata": {
        "id": "dpOYALec6N8Z"
      },
      "source": [
        "This notebook contains examples of how to write and run your first prompts with the Gemini API."
      ]
    },
    {
      "cell_type": "markdown",
      "metadata": {
        "id": "gvkDhXtHgol7"
      },
      "source": [
        "## Learn more\n",
        "\n",
        "There's lots more to learn!\n",
        "\n",
        "* For more fun prompts, check out [Market a Jetpack](https://github.com/google-gemini/cookbook/blob/main/examples/Market_a_Jet_Backpack.ipynb).\n",
        "* Check out the [safety quickstart](https://github.com/google-gemini/cookbook/blob/main/quickstarts/Safety.ipynb) next to learn about the Gemini API's configurable safety settings, and what to do if your prompt is blocked.\n",
        "* For lots more details on using the Python SDK, check out this [detailed quickstart](https://ai.google.dev/tutorials/python_quickstart)."
      ]
    },
    {
      "cell_type": "code",
      "source": [
        "import pandas as pd\n",
        "import spacy\n",
        "import numpy as np\n",
        "import nltk\n",
        "import openpyxl"
      ],
      "metadata": {
        "id": "VJ4RWLUo9hRY"
      },
      "execution_count": 2,
      "outputs": []
    },
    {
      "cell_type": "markdown",
      "source": [],
      "metadata": {
        "id": "NdGtXpZzIdlm"
      }
    },
    {
      "cell_type": "code",
      "source": [
        "df = pd.read_csv(\"/content/complaints.csv\")"
      ],
      "metadata": {
        "id": "RLU6JoF99-6m"
      },
      "execution_count": 50,
      "outputs": []
    },
    {
      "cell_type": "code",
      "source": [
        "nlp = spacy.load ('en_core_web_sm')\n",
        "doc = nlp(df.Sub_issue.iloc[0])"
      ],
      "metadata": {
        "id": "KQRhFkRy-Tf9"
      },
      "execution_count": 51,
      "outputs": []
    },
    {
      "cell_type": "markdown",
      "source": [],
      "metadata": {
        "id": "lqGMQEQ5Hsi5"
      }
    },
    {
      "cell_type": "code",
      "source": [
        "tokens = []\n",
        "lemma = []\n",
        "pos = []\n",
        "\n",
        "for doc in nlp.pipe (df['Sub_issue'].astype('unicode').values, batch_size = 50):\n",
        "  if doc.is_parsed:\n",
        "    tokens.append([n.text for n in doc])\n",
        "    lemma.append([n.lemma_ for n in doc])\n",
        "    pos.append([n.pos_ for n in doc])\n",
        "  else:\n",
        "    tokens.append(None)\n",
        "    lemma.append(None)\n",
        "    pos.append(None)\n",
        "\n",
        "df['issue_tokens'] = tokens\n",
        "df['issue_lemma'] = lemma\n",
        "df['issue_pos'] = pos"
      ],
      "metadata": {
        "colab": {
          "base_uri": "https://localhost:8080/"
        },
        "id": "hV58oTPWIsFz",
        "outputId": "6c03c0e7-ba2a-4d76-a436-7ce9d3955e25"
      },
      "execution_count": 56,
      "outputs": [
        {
          "output_type": "stream",
          "name": "stderr",
          "text": [
            "<ipython-input-56-2220fc4f665a>:6: DeprecationWarning: [W107] The property `Doc.is_parsed` is deprecated. Use `Doc.has_annotation(\"DEP\")` instead.\n",
            "  if doc.is_parsed:\n"
          ]
        }
      ]
    },
    {
      "cell_type": "code",
      "source": [
        "def to_doc(words:tuple) -> spacy.tokens.Doc:\n",
        "  return nlp(' '.join(words))\n",
        "\n",
        "def remove_stops(doc) -> list:\n",
        "  return [token.text for token in doc if not token.is_stop]"
      ],
      "metadata": {
        "id": "yRO0E0qxKzvR"
      },
      "execution_count": 58,
      "outputs": []
    },
    {
      "cell_type": "code",
      "source": [
        "docs = list(map(to_doc, df.issue_lemma))\n",
        "df['removed_stops'] = list(map(remove_stops, docs))"
      ],
      "metadata": {
        "id": "TrWDRfJqLmeB"
      },
      "execution_count": 60,
      "outputs": []
    },
    {
      "cell_type": "code",
      "source": [
        "import re\n",
        "#Remove punctuation\n",
        "df['removed_stops_proces'] = df['removed_stops'].map(lambda x: re.sub(\"[,\\.!?]\",\"\",str(x)))\n",
        "#convert to lower\n",
        "df['removed_stops_proces'] = df['removed_stops_proces'].map(lambda x:x.lower())"
      ],
      "metadata": {
        "id": "jPHGY_5lM00A"
      },
      "execution_count": 64,
      "outputs": []
    },
    {
      "cell_type": "code",
      "source": [
        "df['removed_stops_proces'] = df['removed_stops_proces'].str.replace(\"'\",'')"
      ],
      "metadata": {
        "id": "slMm38XjN25u"
      },
      "execution_count": 66,
      "outputs": []
    },
    {
      "cell_type": "code",
      "source": [
        "from sklearn.feature_extraction.text import CountVectorizer\n",
        "from sklearn.decomposition import LatentDirichletAllocation"
      ],
      "metadata": {
        "id": "jfFE5SbmONT6"
      },
      "execution_count": 68,
      "outputs": []
    },
    {
      "cell_type": "markdown",
      "source": [],
      "metadata": {
        "id": "iB3MZLpb9-Al"
      }
    }
  ],
  "metadata": {
    "colab": {
      "name": "Prompting.ipynb",
      "provenance": [],
      "include_colab_link": true
    },
    "google": {
      "image_path": "/static/site-assets/images/docs/logo-python.svg",
      "keywords": [
        "examples",
        "gemini",
        "beginner",
        "googleai",
        "quickstart",
        "python",
        "text",
        "chat",
        "vision",
        "embed"
      ]
    },
    "kernelspec": {
      "display_name": "Python 3",
      "name": "python3"
    }
  },
  "nbformat": 4,
  "nbformat_minor": 0
}